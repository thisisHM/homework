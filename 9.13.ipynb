{
 "cells": [
  {
   "cell_type": "markdown",
   "metadata": {},
   "source": [
    "# 循环\n",
    "- 循环是一种控制语句块重复执行的结构\n",
    "- while  适用于广度遍历\n",
    "- for    开发中经常使用"
   ]
  },
  {
   "cell_type": "markdown",
   "metadata": {},
   "source": [
    "## while 循环\n",
    "- 当一个条件保持真的时候while循环重复执行语句\n",
    "- while 循环一定要有结束条件，否则很容易进入死循环\n",
    "- while 循环的语法是：\n",
    "\n",
    "    while loop-contunuation-conndition:\n",
    "\n",
    "        Statement"
   ]
  },
  {
   "cell_type": "markdown",
   "metadata": {},
   "source": [
    "## 示例：\n",
    "sum = 0\n",
    "\n",
    "i = 1\n",
    "\n",
    "while i <10:\n",
    "\n",
    "    sum = sum + i\n",
    "    i = i + 1"
   ]
  },
  {
   "cell_type": "markdown",
   "metadata": {},
   "source": [
    "## 错误示例：\n",
    "sum = 0\n",
    "\n",
    "i = 1\n",
    "\n",
    "while i <10:\n",
    "\n",
    "    sum = sum + i\n",
    "\n",
    "i = i + 1\n",
    "- 一旦进入死循环可按 Ctrl + c 停止"
   ]
  },
  {
   "cell_type": "markdown",
   "metadata": {},
   "source": [
    "## EP：\n",
    "![](../Photo/143.png)\n",
    "![](../Photo/144.png)"
   ]
  },
  {
   "cell_type": "markdown",
   "metadata": {},
   "source": [
    "# 验证码\n",
    "- 随机产生四个字母的验证码，如果正确，输出验证码正确。如果错误，产生新的验证码，用户重新输入。\n",
    "- 验证码只能输入三次，如果三次都错，返回“别爬了，我们小网站没什么好爬的”\n",
    "- 密码登录，如果三次错误，账号被锁定\n"
   ]
  },
  {
   "cell_type": "code",
   "execution_count": 1,
   "metadata": {},
   "outputs": [
    {
     "name": "stdout",
     "output_type": "stream",
     "text": [
      "四位数的验证码是:  9 3 0 17\n",
      "输入四位验证码9 3 0 17\n",
      "重新输入\n"
     ]
    }
   ],
   "source": [
    "import random\n",
    "a=['a','b','c','d','e','f','g','h','i','j','k','l','m','n','o','p','q','r','s','t','u','v','w','s','y','z']\n",
    "a1=random.randint(0,25)\n",
    "a2=random.randint(0,25)\n",
    "a3=random.randint(0,25)\n",
    "a4=random.randint(0,25)\n",
    "print('四位数的验证码是: ',a1,a2,a3,a4)\n",
    "num=input('输入四位验证码')\n",
    "if num==a:\n",
    "    print('true')\n",
    "else:\n",
    "    print('重新输入')"
   ]
  },
  {
   "cell_type": "code",
   "execution_count": null,
   "metadata": {},
   "outputs": [
    {
     "name": "stdout",
     "output_type": "stream",
     "text": [
      "验证码是: 1962\n",
      ">>1962\n",
      "请在输入\n",
      "验证码是: 8033\n"
     ]
    }
   ],
   "source": [
    "import random\n",
    "\n",
    "i=0\n",
    "while i<3:\n",
    "    yzm=random.randint(1000,9999)\n",
    "    print('验证码是:',yzm)\n",
    "\n",
    "    input_=input('>>')\n",
    "    if yzm==input_:\n",
    "        print('验证码正确')\n",
    "        break\n",
    "    else:\n",
    "        print('请在输入')\n",
    "        i +=1\n",
    "else:\n",
    "    print('验证码次数超限')"
   ]
  },
  {
   "cell_type": "markdown",
   "metadata": {},
   "source": [
    "## 尝试死循环"
   ]
  },
  {
   "cell_type": "markdown",
   "metadata": {},
   "source": [
    "## 实例研究：猜数字\n",
    "- 你将要编写一个能够随机生成一个0到10之间的且包括两者的数字程序，这个程序\n",
    "- 提示用户连续地输入数字直到正确，且提示用户输入的数字是过高还是过低"
   ]
  },
  {
   "cell_type": "markdown",
   "metadata": {},
   "source": [
    "## 使用哨兵值来控制循环\n",
    "- 哨兵值来表明输入的结束\n",
    "- ![](../Photo/54.png)"
   ]
  },
  {
   "cell_type": "markdown",
   "metadata": {},
   "source": [
    "## 警告\n",
    "![](../Photo/55.png)"
   ]
  },
  {
   "cell_type": "markdown",
   "metadata": {},
   "source": [
    "## for 循环\n",
    "- Python的for 循环通过一个序列中的每个值来进行迭代\n",
    "- range(a,b,k)， a，b，k 必须为整数\n",
    "- a: start\n",
    "- b: end\n",
    "- k: step\n",
    "- 注意for 是循环一切可迭代对象，而不是只能使用range"
   ]
  },
  {
   "cell_type": "markdown",
   "metadata": {},
   "source": [
    "# 在Python里面一切皆对象"
   ]
  },
  {
   "cell_type": "code",
   "execution_count": null,
   "metadata": {},
   "outputs": [],
   "source": [
    "sum_=0\n",
    "for i in range (1,10000):\n",
    "sum_+=i\n",
    "if sum_>10000:\n",
    "    break\n",
    "print(sum_)"
   ]
  },
  {
   "cell_type": "code",
   "execution_count": null,
   "metadata": {},
   "outputs": [],
   "source": [
    "num=eval(input('>>'))\n",
    "str_='abcdef'\n",
    "while i<7:\n",
    "    print(str_[i])\n",
    "    i+=1\n",
    "\n"
   ]
  },
  {
   "cell_type": "markdown",
   "metadata": {},
   "source": [
    "## EP:\n",
    "- ![](../Photo/145.png)"
   ]
  },
  {
   "cell_type": "markdown",
   "metadata": {},
   "source": [
    "## 嵌套循环\n",
    "- 一个循环可以嵌套另一个循环\n",
    "- 每次循环外层时，内层循环都会被刷新重新完成循环\n",
    "- 也就是说，大循环执行一次，小循环会全部执行一次\n",
    "- 注意：\n",
    "> - 多层循环非常耗时\n",
    "  - 最多使用3层循环"
   ]
  },
  {
   "cell_type": "code",
   "execution_count": null,
   "metadata": {},
   "outputs": [],
   "source": [
    "for i in range(10):\n",
    "    for j in range (10):\n",
    "        for k in range(10):\n",
    "            print(i,j,k)"
   ]
  },
  {
   "cell_type": "markdown",
   "metadata": {},
   "source": [
    "## EP：\n",
    "- 使用多层循环完成9X9乘法表\n",
    "- 显示50以内所有的素数"
   ]
  },
  {
   "cell_type": "code",
   "execution_count": null,
   "metadata": {},
   "outputs": [],
   "source": [
    "n = int(input(\"输入一个数：\"))\n",
    "for i in range(2, n):\n",
    "    if n % i == 0:\n",
    "        print(\" %d 不是素数！\" % n)\n",
    "        break\n",
    "else:\n",
    "    print(\" %d 是素数！\" % n)"
   ]
  },
  {
   "cell_type": "code",
   "execution_count": 37,
   "metadata": {},
   "outputs": [
    {
     "name": "stdout",
     "output_type": "stream",
     "text": [
      "1x1=1\t\n",
      "2x1=2\t2x2=4\t\n",
      "3x1=3\t3x2=6\t3x3=9\t\n",
      "4x1=4\t4x2=8\t4x3=12\t4x4=16\t\n",
      "5x1=5\t5x2=10\t5x3=15\t5x4=20\t5x5=25\t\n",
      "6x1=6\t6x2=12\t6x3=18\t6x4=24\t6x5=30\t6x6=36\t\n",
      "7x1=7\t7x2=14\t7x3=21\t7x4=28\t7x5=35\t7x6=42\t7x7=49\t\n",
      "8x1=8\t8x2=16\t8x3=24\t8x4=32\t8x5=40\t8x6=48\t8x7=56\t8x8=64\t\n",
      "9x1=9\t9x2=18\t9x3=27\t9x4=36\t9x5=45\t9x6=54\t9x7=63\t9x8=72\t9x9=81\t\n"
     ]
    }
   ],
   "source": [
    "for i in range(1, 10):\n",
    "    for j in range(1, i+1):\n",
    "        print('{}x{}={}\\t'.format(i, j, i*j), end='')\n",
    "    print()"
   ]
  },
  {
   "cell_type": "code",
   "execution_count": 39,
   "metadata": {},
   "outputs": [
    {
     "name": "stdout",
     "output_type": "stream",
     "text": [
      "1x1=1\t\n",
      "2x1=2\t2x2=4\t\n",
      "3x1=3\t3x2=6\t3x3=9\t\n",
      "4x1=4\t4x2=8\t4x3=12\t4x4=16\t\n",
      "5x1=5\t5x2=10\t5x3=15\t5x4=20\t5x5=25\t\n",
      "6x1=6\t6x2=12\t6x3=18\t6x4=24\t6x5=30\t6x6=36\t\n",
      "7x1=7\t7x2=14\t7x3=21\t7x4=28\t7x5=35\t7x6=42\t7x7=49\t\n",
      "8x1=8\t8x2=16\t8x3=24\t8x4=32\t8x5=40\t8x6=48\t8x7=56\t8x8=64\t\n",
      "9x1=9\t9x2=18\t9x3=27\t9x4=36\t9x5=45\t9x6=54\t9x7=63\t9x8=72\t9x9=81\t\n"
     ]
    }
   ],
   "source": [
    "for a in range(1, 10):\n",
    "    for b in range(1, a+1 ):\n",
    "        print('{}x{}={}\\t'.format(a, b,a*b),end='')\n",
    "    print()\n",
    "    "
   ]
  },
  {
   "cell_type": "markdown",
   "metadata": {},
   "source": [
    "## 关键字 break 和 continue\n",
    "- break 跳出循环，终止循环\n",
    "- continue 跳出此次循环，继续执行"
   ]
  },
  {
   "cell_type": "markdown",
   "metadata": {},
   "source": [
    "## 注意\n",
    "![](../Photo/56.png)\n",
    "![](../Photo/57.png)"
   ]
  },
  {
   "cell_type": "markdown",
   "metadata": {},
   "source": [
    "# Homework\n",
    "- 1 \n",
    "![](../Photo/58.png)"
   ]
  },
  {
   "cell_type": "markdown",
   "metadata": {},
   "source": [
    "- 2\n",
    "![](../Photo/59.png)"
   ]
  },
  {
   "cell_type": "code",
   "execution_count": 14,
   "metadata": {},
   "outputs": [
    {
     "name": "stdout",
     "output_type": "stream",
     "text": [
      "输入年份14\n",
      "十年后的学费是: 17000.0\n"
     ]
    }
   ],
   "source": [
    "year=eval(input('输入年份'))\n",
    "i=10000\n",
    "money=i*(1+0.05*year)\n",
    "for year in range(0,1):\n",
    "    year+=1\n",
    "    if year<11:\n",
    "        print('十年后的学费是:',str(money))\n",
    "    else :\n",
    "            print('十四年后的学费是:',str(money))\n",
    "   \n"
   ]
  },
  {
   "cell_type": "markdown",
   "metadata": {},
   "source": [
    "- 3\n",
    "![](../Photo/58.png)"
   ]
  },
  {
   "cell_type": "markdown",
   "metadata": {},
   "source": [
    "- 4\n",
    "![](../Photo/60.png)"
   ]
  },
  {
   "cell_type": "code",
   "execution_count": 51,
   "metadata": {},
   "outputs": [
    {
     "name": "stdout",
     "output_type": "stream",
     "text": [
      "102\n",
      "105\n",
      "108\n",
      "110\n",
      "110\n",
      "114\n",
      "115\n",
      "125\n",
      "126\n",
      "130\n",
      "130\n",
      "132\n",
      "135\n",
      "138\n",
      "140\n",
      "140\n",
      "144\n",
      "145\n",
      "155\n",
      "156\n",
      "160\n",
      "160\n",
      "162\n",
      "165\n",
      "168\n",
      "170\n",
      "170\n",
      "174\n",
      "175\n",
      "185\n",
      "186\n",
      "190\n",
      "190\n",
      "192\n",
      "195\n",
      "198\n",
      "200\n",
      "200\n",
      "204\n",
      "205\n",
      "215\n",
      "216\n",
      "220\n",
      "220\n",
      "222\n",
      "225\n",
      "228\n",
      "230\n",
      "230\n",
      "234\n",
      "235\n",
      "245\n",
      "246\n",
      "250\n",
      "250\n",
      "252\n",
      "255\n",
      "258\n",
      "260\n",
      "260\n",
      "264\n",
      "265\n",
      "275\n",
      "276\n",
      "280\n",
      "280\n",
      "282\n",
      "285\n",
      "288\n",
      "290\n",
      "290\n",
      "294\n",
      "295\n",
      "305\n",
      "306\n",
      "310\n",
      "310\n",
      "312\n",
      "315\n",
      "318\n",
      "320\n",
      "320\n",
      "324\n",
      "325\n",
      "335\n",
      "336\n",
      "340\n",
      "340\n",
      "342\n",
      "345\n",
      "348\n",
      "350\n",
      "350\n",
      "354\n",
      "355\n",
      "365\n",
      "366\n",
      "370\n",
      "370\n",
      "372\n",
      "375\n",
      "378\n",
      "380\n",
      "380\n",
      "384\n",
      "385\n",
      "395\n",
      "396\n",
      "400\n",
      "400\n",
      "402\n",
      "405\n",
      "408\n",
      "410\n",
      "410\n",
      "414\n",
      "415\n",
      "425\n",
      "426\n",
      "430\n",
      "430\n",
      "432\n",
      "435\n",
      "438\n",
      "440\n",
      "440\n",
      "444\n",
      "445\n",
      "455\n",
      "456\n",
      "460\n",
      "460\n",
      "462\n",
      "465\n",
      "468\n",
      "470\n",
      "470\n",
      "474\n",
      "475\n",
      "485\n",
      "486\n",
      "490\n",
      "490\n",
      "492\n",
      "495\n",
      "498\n",
      "500\n",
      "500\n",
      "504\n",
      "505\n",
      "515\n",
      "516\n",
      "520\n",
      "520\n",
      "522\n",
      "525\n",
      "528\n",
      "530\n",
      "530\n",
      "534\n",
      "535\n",
      "545\n",
      "546\n",
      "550\n",
      "550\n",
      "552\n",
      "555\n",
      "558\n",
      "560\n",
      "560\n",
      "564\n",
      "565\n",
      "575\n",
      "576\n",
      "580\n",
      "580\n",
      "582\n",
      "585\n",
      "588\n",
      "590\n",
      "590\n",
      "594\n",
      "595\n",
      "605\n",
      "606\n",
      "610\n",
      "610\n",
      "612\n",
      "615\n",
      "618\n",
      "620\n",
      "620\n",
      "624\n",
      "625\n",
      "635\n",
      "636\n",
      "640\n",
      "640\n",
      "642\n",
      "645\n",
      "648\n",
      "650\n",
      "650\n",
      "654\n",
      "655\n",
      "665\n",
      "666\n",
      "670\n",
      "670\n",
      "672\n",
      "675\n",
      "678\n",
      "680\n",
      "680\n",
      "684\n",
      "685\n",
      "695\n",
      "696\n",
      "700\n",
      "700\n",
      "702\n",
      "705\n",
      "708\n",
      "710\n",
      "710\n",
      "714\n",
      "715\n",
      "725\n",
      "726\n",
      "730\n",
      "730\n",
      "732\n",
      "735\n",
      "738\n",
      "740\n",
      "740\n",
      "744\n",
      "745\n",
      "755\n",
      "756\n",
      "760\n",
      "760\n",
      "762\n",
      "765\n",
      "768\n",
      "770\n",
      "770\n",
      "774\n",
      "775\n",
      "785\n",
      "786\n",
      "790\n",
      "790\n",
      "792\n",
      "795\n",
      "798\n",
      "800\n",
      "800\n",
      "804\n",
      "805\n",
      "815\n",
      "816\n",
      "820\n",
      "820\n",
      "822\n",
      "825\n",
      "828\n",
      "830\n",
      "830\n",
      "834\n",
      "835\n",
      "845\n",
      "846\n",
      "850\n",
      "850\n",
      "852\n",
      "855\n",
      "858\n",
      "860\n",
      "860\n",
      "864\n",
      "865\n",
      "875\n",
      "876\n",
      "880\n",
      "880\n",
      "882\n",
      "885\n",
      "888\n",
      "890\n",
      "890\n",
      "894\n",
      "895\n",
      "905\n",
      "906\n",
      "910\n",
      "910\n",
      "912\n",
      "915\n",
      "918\n",
      "920\n",
      "920\n",
      "924\n",
      "925\n",
      "935\n",
      "936\n",
      "940\n",
      "940\n",
      "942\n",
      "945\n",
      "948\n",
      "950\n",
      "950\n",
      "954\n",
      "955\n",
      "965\n",
      "966\n",
      "970\n",
      "970\n",
      "972\n",
      "975\n",
      "978\n",
      "980\n",
      "980\n",
      "984\n",
      "985\n",
      "995\n",
      "996\n",
      "1000\n",
      "1000\n"
     ]
    }
   ],
   "source": [
    "n=100\n",
    "\n",
    "m=0\n",
    "\n",
    "while n<=1000:\n",
    "\n",
    "    n=n+1\n",
    "\n",
    "    m=m+1\n",
    "\n",
    "    if n%30==0:\n",
    "\n",
    "        continue\n",
    "\n",
    "    if n%5==0 or n%6==0:\n",
    "        print (n)\n",
    "    if m%10==0:\n",
    "\n",
    "        print (n)"
   ]
  },
  {
   "cell_type": "markdown",
   "metadata": {},
   "source": [
    "- 5\n",
    "![](../Photo/61.png)"
   ]
  },
  {
   "cell_type": "code",
   "execution_count": 53,
   "metadata": {},
   "outputs": [
    {
     "name": "stdout",
     "output_type": "stream",
     "text": [
      "1\n"
     ]
    }
   ],
   "source": [
    "n=1\n",
    "\n",
    "while n*n>12000:\n",
    "\n",
    "    n=n+1\n",
    "\n",
    "    continue\n",
    "\n",
    "print (n)"
   ]
  },
  {
   "cell_type": "code",
   "execution_count": 52,
   "metadata": {},
   "outputs": [
    {
     "name": "stdout",
     "output_type": "stream",
     "text": [
      "110\n"
     ]
    }
   ],
   "source": [
    "n=1\n",
    "\n",
    "while n*n<12000:\n",
    "\n",
    "    n=n+1\n",
    "\n",
    "    continue\n",
    "\n",
    "print (n)"
   ]
  },
  {
   "cell_type": "markdown",
   "metadata": {},
   "source": [
    "- 6\n",
    "![](../Photo/62.png)"
   ]
  },
  {
   "cell_type": "markdown",
   "metadata": {},
   "source": [
    "- 7\n",
    "![](../Photo/63.png)"
   ]
  },
  {
   "cell_type": "code",
   "execution_count": 58,
   "metadata": {},
   "outputs": [
    {
     "name": "stdout",
     "output_type": "stream",
     "text": [
      "11.397003949278504\n",
      "11.397003949278519\n"
     ]
    }
   ],
   "source": [
    "sum = 0\n",
    "num = 0\n",
    "j = 50000\n",
    "for i in range(1,50001):\n",
    "    a = 1/i\n",
    "    sum = sum+a\n",
    "print(sum)\n",
    "\n",
    "while j >= 1:\n",
    "    b = 1/j\n",
    "    num = num+1/j\n",
    "    j=j-1\n",
    "print(num)"
   ]
  },
  {
   "cell_type": "markdown",
   "metadata": {},
   "source": [
    "- 8\n",
    "![](../Photo/64.png)"
   ]
  },
  {
   "cell_type": "code",
   "execution_count": 59,
   "metadata": {},
   "outputs": [
    {
     "name": "stdout",
     "output_type": "stream",
     "text": [
      "45.124450303050196\n"
     ]
    }
   ],
   "source": [
    "sum = 0\n",
    "for x in range(1,98,2):\n",
    "    y = x+2\n",
    "    z = x/y\n",
    "    sum = sum+z\n",
    "print (sum)"
   ]
  },
  {
   "cell_type": "markdown",
   "metadata": {},
   "source": [
    "- 9\n",
    "![](../Photo/65.png)"
   ]
  },
  {
   "cell_type": "code",
   "execution_count": 63,
   "metadata": {},
   "outputs": [
    {
     "name": "stdout",
     "output_type": "stream",
     "text": [
      "3.1414926535900345\n",
      "3.1415426535898248\n",
      "3.141559320256462\n",
      "3.1415676535897985\n",
      "3.1415726535897814\n",
      "3.141575986923102\n",
      "3.141578367875482\n",
      "3.1415801535897496\n",
      "3.1415815424786238\n",
      "3.1415826535897198\n"
     ]
    }
   ],
   "source": [
    "sum = 0\n",
    "i = 1\n",
    "for j in range(10000,100001,10000):\n",
    "    while i<=j:\n",
    "        x=((-1)**(i+1))/(2*i-1)\n",
    "        sum = sum+x\n",
    "        i+=1\n",
    "    pi = sum*4\n",
    "    print(pi)"
   ]
  },
  {
   "cell_type": "markdown",
   "metadata": {},
   "source": [
    "- 10 \n",
    "![](../Photo/66.png)"
   ]
  },
  {
   "cell_type": "code",
   "execution_count": 57,
   "metadata": {},
   "outputs": [
    {
     "name": "stdout",
     "output_type": "stream",
     "text": [
      "6\n",
      "28\n",
      "496\n",
      "8128\n"
     ]
    }
   ],
   "source": [
    "for i in range(1, 10000):\n",
    "    sum = 0\n",
    "    for factor in range(1, i):\n",
    "        if i % factor == 0:\n",
    "            sum = sum + factor\n",
    "    if i == sum:\n",
    "        print(i)"
   ]
  },
  {
   "cell_type": "markdown",
   "metadata": {},
   "source": [
    "- 11\n",
    "![](../Photo/67.png)"
   ]
  },
  {
   "cell_type": "code",
   "execution_count": 62,
   "metadata": {},
   "outputs": [
    {
     "name": "stdout",
     "output_type": "stream",
     "text": [
      "\n",
      "12 \n",
      "13 23 \n",
      "14 24 34 \n",
      "15 25 35 45 \n",
      "16 26 36 46 56 \n",
      "17 27 37 47 57 67 \n",
      "The total number of all combinations is :21\n"
     ]
    }
   ],
   "source": [
    "count = 0\n",
    "for i in range(1,8):\n",
    "    for j in range(1,i):\n",
    "        count = count+1\n",
    "        print(str(j)+str(i),end=' ')\n",
    "    print( )\n",
    "print('The total number of all combinations is :'+str(count))"
   ]
  },
  {
   "cell_type": "markdown",
   "metadata": {},
   "source": [
    "- 12\n",
    "![](../Photo/68.png)"
   ]
  },
  {
   "cell_type": "code",
   "execution_count": null,
   "metadata": {},
   "outputs": [],
   "source": []
  }
 ],
 "metadata": {
  "kernelspec": {
   "display_name": "Python 3",
   "language": "python",
   "name": "python3"
  }
 },
 "nbformat": 4,
 "nbformat_minor": 2
}
