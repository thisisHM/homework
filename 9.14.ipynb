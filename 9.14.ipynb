{
 "cells": [
  {
   "cell_type": "markdown",
   "metadata": {},
   "source": [
    "# 函数\n",
    "\n",
    "- 函数可以用来定义可重复代码，组织和简化\n",
    "- 一般来说一个函数在实际开发中为一个小功能\n",
    "- 一个类为一个大功能\n",
    "- 同样函数的长度不要超过一屏"
   ]
  },
  {
   "cell_type": "markdown",
   "metadata": {},
   "source": [
    "## 定义一个函数\n",
    "\n",
    "def function_name(list of parameters):\n",
    "    \n",
    "    do something\n",
    "![](../Photo/69.png)\n",
    "- 以前使用的random 或者range 或者print.. 其实都是函数或者类"
   ]
  },
  {
   "cell_type": "code",
   "execution_count": 17,
   "metadata": {},
   "outputs": [],
   "source": [
    "def jiouxing():\n",
    "    num = eval (input(\"输入一个数：\"))\n",
    "    if num % 2 == 0:\n",
    "        print(\"这是一个偶数\")\n",
    "    else :\n",
    "        print(\"这是一个奇数\")"
   ]
  },
  {
   "cell_type": "code",
   "execution_count": 18,
   "metadata": {},
   "outputs": [
    {
     "name": "stdout",
     "output_type": "stream",
     "text": [
      "输入一个数：5\n",
      "这是一个奇数\n"
     ]
    }
   ],
   "source": [
    "jiouxing()"
   ]
  },
  {
   "cell_type": "markdown",
   "metadata": {},
   "source": [
    "## 调用一个函数\n",
    "- functionName()\n",
    "- \"()\" 就代表调用"
   ]
  },
  {
   "cell_type": "code",
   "execution_count": 19,
   "metadata": {},
   "outputs": [],
   "source": [
    "def sushu():\n",
    "    for i in range(2,51):\n",
    "        for j in range(2, i):\n",
    "            if i % j == 0:\n",
    "                break\n",
    "        else:\n",
    "            print(i, end = \" \")"
   ]
  },
  {
   "cell_type": "code",
   "execution_count": 20,
   "metadata": {},
   "outputs": [
    {
     "name": "stdout",
     "output_type": "stream",
     "text": [
      "2 3 5 7 11 13 17 19 23 29 31 37 41 43 47 "
     ]
    }
   ],
   "source": [
    "sushu()"
   ]
  },
  {
   "cell_type": "markdown",
   "metadata": {},
   "source": [
    "![](../Photo/70.png)"
   ]
  },
  {
   "cell_type": "markdown",
   "metadata": {},
   "source": [
    "## 带返回值和不带返回值的函数\n",
    "- return 返回的内容\n",
    "- return 返回多个值\n",
    "- 一般情况下，在多个函数协同完成一个功能的时候，那么将会有返回值"
   ]
  },
  {
   "cell_type": "markdown",
   "metadata": {},
   "source": [
    "![](../Photo/71.png)\n",
    "\n",
    "- 当然也可以自定义返回None"
   ]
  },
  {
   "cell_type": "markdown",
   "metadata": {},
   "source": [
    "## EP：\n",
    "![](../Photo/72.png)"
   ]
  },
  {
   "cell_type": "markdown",
   "metadata": {},
   "source": [
    "## 类型和关键字参数\n",
    "- 普通参数\n",
    "- 多个参数\n",
    "- 默认值参数\n",
    "- 不定长参数"
   ]
  },
  {
   "cell_type": "markdown",
   "metadata": {},
   "source": [
    "## 普通参数"
   ]
  },
  {
   "cell_type": "code",
   "execution_count": 4,
   "metadata": {},
   "outputs": [],
   "source": [
    "import os\n",
    "def kuajiang(name):\n",
    "    os.system(\"say {}你真是个小帅哥\".format(name))"
   ]
  },
  {
   "cell_type": "code",
   "execution_count": 5,
   "metadata": {},
   "outputs": [],
   "source": [
    "kuajiang(name=\"彭于晏\")"
   ]
  },
  {
   "cell_type": "code",
   "execution_count": 21,
   "metadata": {},
   "outputs": [],
   "source": [
    "def input_():\n",
    "    num = eval(input(\"输入一个数：\"))\n",
    "    res3 = san(num)\n",
    "    res2 = er(num)\n",
    "    print(res3 - res2)\n",
    "def san (num):\n",
    "    return num ** 3\n",
    "def er (num):\n",
    "    return num ** 2"
   ]
  },
  {
   "cell_type": "code",
   "execution_count": 22,
   "metadata": {},
   "outputs": [
    {
     "name": "stdout",
     "output_type": "stream",
     "text": [
      "输入一个数：10\n",
      "900\n"
     ]
    }
   ],
   "source": [
    "input_()"
   ]
  },
  {
   "cell_type": "markdown",
   "metadata": {},
   "source": [
    "## 多个参数"
   ]
  },
  {
   "cell_type": "markdown",
   "metadata": {},
   "source": [
    "## 默认值参数"
   ]
  },
  {
   "cell_type": "code",
   "execution_count": 5,
   "metadata": {},
   "outputs": [],
   "source": [
    "username = \"1234567\"\n",
    "password = \"1234567\"\n",
    "is_ok_and_y = False"
   ]
  },
  {
   "cell_type": "code",
   "execution_count": 6,
   "metadata": {},
   "outputs": [],
   "source": [
    "def denglu(une,pwd):\n",
    "    if (une == username) and (pwd == password):\n",
    "        print(\"登陆成功\")\n",
    "    else:\n",
    "        print(\"账号或者密码错误\")"
   ]
  },
  {
   "cell_type": "code",
   "execution_count": 8,
   "metadata": {},
   "outputs": [],
   "source": [
    "def qidong():\n",
    "    global is_ok_and_y\n",
    "    if is_ok_and_y == False:\n",
    "        print(\"是否10天内免登陆？y/n\")\n",
    "        res = input(\">>\")\n",
    "        une = input(\"请输入账号\")\n",
    "        pwd = input(\"请输入密码\")\n",
    "        if res == \"y\" :\n",
    "            denglu(une,pwd)\n",
    "            is_ok_and_y = True\n",
    "        else :\n",
    "            denglu(une,pwd)\n",
    "    else :\n",
    "        print(\"登陆成功\")"
   ]
  },
  {
   "cell_type": "code",
   "execution_count": 10,
   "metadata": {},
   "outputs": [
    {
     "name": "stdout",
     "output_type": "stream",
     "text": [
      "登陆成功\n"
     ]
    }
   ],
   "source": [
    "qidong()"
   ]
  },
  {
   "cell_type": "markdown",
   "metadata": {},
   "source": [
    "## 强制命名"
   ]
  },
  {
   "cell_type": "markdown",
   "metadata": {},
   "source": [
    "## 不定长参数\n",
    "- \\*args\n",
    "> - 不定长，来多少装多少，不装也是可以的\n",
    "  - 返回的数据类型是元组\n",
    "  - args 名字是可以修改的，只是我们约定俗成的是args\n",
    "- \\**kwargs \n",
    "> - 返回的字典\n",
    "  - 输入的一定要是表达式（键值对）\n",
    "- name,\\*args,name2,\\**kwargs  使用参数名"
   ]
  },
  {
   "cell_type": "markdown",
   "metadata": {},
   "source": [
    "## 变量的作用域\n",
    "- 局部变量 local\n",
    "- 全局变量 global\n",
    "- globals 函数返回一个全局变量的字典，包括所有导入的变量\n",
    "- locals() 函数会以字典类型返回当前位置的全部局部变量。"
   ]
  },
  {
   "cell_type": "markdown",
   "metadata": {},
   "source": [
    "## 注意：\n",
    "- global ：在进行赋值操作的时候需要声明\n",
    "- 官方解释：This is because when you make an assignment to a variable in a scope, that variable becomes local to that scope and shadows any similarly named variable in the outer scope.\n",
    "- ![](../Photo/73.png)"
   ]
  },
  {
   "cell_type": "markdown",
   "metadata": {},
   "source": [
    "# Homework\n",
    "- 1\n",
    "![](../Photo/74.png)"
   ]
  },
  {
   "cell_type": "code",
   "execution_count": 38,
   "metadata": {},
   "outputs": [
    {
     "name": "stdout",
     "output_type": "stream",
     "text": [
      "1.0\t5.0\t12.0\t22.0\t35.0\t51.0\t70.0\t92.0\t117.0\t145.0\t \n",
      "176.0\t210.0\t247.0\t287.0\t330.0\t376.0\t425.0\t477.0\t532.0\t590.0\t \n",
      "651.0\t715.0\t782.0\t852.0\t925.0\t1001.0\t1080.0\t1162.0\t1247.0\t1335.0\t \n",
      "1426.0\t1520.0\t1617.0\t1717.0\t1820.0\t1926.0\t2035.0\t2147.0\t2262.0\t2380.0\t \n",
      "2501.0\t2625.0\t2752.0\t2882.0\t3015.0\t3151.0\t3290.0\t3432.0\t3577.0\t3725.0\t \n",
      "3876.0\t4030.0\t4187.0\t4347.0\t4510.0\t4676.0\t4845.0\t5017.0\t5192.0\t5370.0\t \n",
      "5551.0\t5735.0\t5922.0\t6112.0\t6305.0\t6501.0\t6700.0\t6902.0\t7107.0\t7315.0\t \n",
      "7526.0\t7740.0\t7957.0\t8177.0\t8400.0\t8626.0\t8855.0\t9087.0\t9322.0\t9560.0\t \n",
      "9801.0\t10045.0\t10292.0\t10542.0\t10795.0\t11051.0\t11310.0\t11572.0\t11837.0\t12105.0\t \n",
      "12376.0\t12650.0\t12927.0\t13207.0\t13490.0\t13776.0\t14065.0\t14357.0\t14652.0\t14950.0\t \n"
     ]
    }
   ],
   "source": [
    "def getPentagonalNumber():\n",
    "    n = 1\n",
    "    count = 0\n",
    "    while n <= 100 :\n",
    "        num = n * (3 * n - 1) / 2\n",
    "        print(num ,end = \"\\t\")\n",
    "        count = count + 1\n",
    "        if (count % 10 == 0): \n",
    "            print(end = \" \\n\")\n",
    "        n = n + 1\n",
    "getPentagonalNumber()"
   ]
  },
  {
   "cell_type": "markdown",
   "metadata": {},
   "source": [
    "- 2 \n",
    "![](../Photo/75.png)"
   ]
  },
  {
   "cell_type": "code",
   "execution_count": 37,
   "metadata": {},
   "outputs": [
    {
     "name": "stdout",
     "output_type": "stream",
     "text": [
      "这个整数的所有数字的和为：9\n"
     ]
    }
   ],
   "source": [
    "def sumDigits(num):\n",
    "    sum_ = 0\n",
    "    while 1:\n",
    "        a = num % 10\n",
    "        sum_ = sum_ + a\n",
    "        num = num // 10\n",
    "        if num == 0:\n",
    "            print(\"这个整数的所有数字的和为：\" + str(sum_))\n",
    "            break\n",
    "sumDigits(num = 234)"
   ]
  },
  {
   "cell_type": "markdown",
   "metadata": {},
   "source": [
    "- 3\n",
    "![](../Photo/76.png)"
   ]
  },
  {
   "cell_type": "code",
   "execution_count": 36,
   "metadata": {},
   "outputs": [
    {
     "name": "stdout",
     "output_type": "stream",
     "text": [
      "3 4 7\n"
     ]
    }
   ],
   "source": [
    "def displaySortedNumber(a,b,c):\n",
    "    if a >= b >= c:\n",
    "        print(c,b,a)\n",
    "    elif a >= c >= b:\n",
    "        print(b,c,a)\n",
    "    elif b >= c >= a:\n",
    "        print(a,c,b)\n",
    "    elif b >= a >= c:\n",
    "        print(c,a,b)\n",
    "    elif c >= a >= b:\n",
    "        print(b,a,c)\n",
    "    else :\n",
    "        print(a,b,c)\n",
    "displaySortedNumber(a = 7,b = 3,c = 4)"
   ]
  },
  {
   "cell_type": "markdown",
   "metadata": {},
   "source": [
    "- 4\n",
    "![](../Photo/77.png)"
   ]
  },
  {
   "cell_type": "code",
   "execution_count": 35,
   "metadata": {},
   "outputs": [
    {
     "name": "stdout",
     "output_type": "stream",
     "text": [
      "输入本金:1000\n",
      "输入年利率:9\n",
      "1       1093.8068976709837\n",
      "2       1196.4135293926222\n",
      "3       1308.6453709165366\n",
      "4       1431.4053333137108\n",
      "5       1565.6810269415707\n",
      "6       1712.5527068212796\n",
      "7       1873.2019633462298\n",
      "8       2048.921228238936\n",
      "9       2241.124172232252\n",
      "10       2451.3570781248113\n",
      "11       2681.3112807075076\n",
      "12       2932.8367736408914\n",
      "13       3207.957092751521\n",
      "14       3508.8855954841697\n",
      "15       3838.0432674789427\n",
      "16       4198.078199528149\n",
      "17       4591.886891606074\n",
      "18       5022.637555363697\n",
      "19       5493.79560255814\n",
      "20       6009.151524472612\n",
      "21       6572.851386618251\n",
      "22       7189.430184049334\n",
      "23       7863.848325637133\n",
      "24       8601.531540820313\n",
      "25       9408.414529883785\n",
      "26       10290.98870893479\n",
      "27       11256.354433687085\n",
      "28       12312.278122196296\n",
      "29       13467.254736101859\n",
      "30       14730.576123040439\n"
     ]
    }
   ],
   "source": [
    "def future():\n",
    "    in_ = eval (input(\"输入本金:\"))\n",
    "    ratr = eval (input(\"输入年利率:\"))\n",
    "    for i in range(1,31):\n",
    "        years = i\n",
    "        future = in_ * (1 + ratr / 100 / 12) ** (years * 12)\n",
    "        print(str(years) + \"       \" + str(future))\n",
    "future()"
   ]
  },
  {
   "cell_type": "markdown",
   "metadata": {},
   "source": [
    "- 5\n",
    "![](../Photo/78.png)"
   ]
  },
  {
   "cell_type": "code",
   "execution_count": 44,
   "metadata": {},
   "outputs": [
    {
     "name": "stdout",
     "output_type": "stream",
     "text": [
      "1  2  3  4  5  6  7  8  9  :   \n",
      ";  <  =  >  ?  @  A  B  C  D   \n",
      "E  F  G  H  I  J  K  L  M  N   \n",
      "O  P  Q  R  S  T  U  V  W  X   \n",
      "Y  Z  "
     ]
    }
   ],
   "source": [
    "def printChars(ch1, ch2):\n",
    "    count = 0 \n",
    "    for i in range(ord(ch1), ord(ch2) + 1):\n",
    "        print(chr(i), end = \"  \")\n",
    "        count += 1\n",
    "        if (count % 10 == 0): \n",
    "            print(end = \" \\n\")\n",
    "printChars(ch1 = \"1\", ch2 = \"Z\")"
   ]
  },
  {
   "cell_type": "markdown",
   "metadata": {},
   "source": [
    "- 6\n",
    "![](../Photo/79.png)"
   ]
  },
  {
   "cell_type": "code",
   "execution_count": 41,
   "metadata": {},
   "outputs": [
    {
     "name": "stdout",
     "output_type": "stream",
     "text": [
      "2010年有365天\n",
      "2011年有365天\n",
      "2012年有366天\n",
      "2013年有365天\n",
      "2014年有365天\n",
      "2015年有365天\n",
      "2016年有366天\n",
      "2017年有365天\n",
      "2018年有365天\n",
      "2019年有365天\n",
      "2020年有366天\n"
     ]
    }
   ],
   "source": [
    "def numberOfDaysInAYear():\n",
    "    for year in range(2010, 2021):\n",
    "        if year % 400 == 0 or (year % 4 == 0 and year % 100 != 0):\n",
    "            day = 366\n",
    "        else:\n",
    "            day = 365\n",
    "        print(str(year) + '年有'+ str(day)+'天')\n",
    "numberOfDaysInAYear()"
   ]
  },
  {
   "cell_type": "markdown",
   "metadata": {},
   "source": [
    "- 7\n",
    "![](../Photo/80.png)"
   ]
  },
  {
   "cell_type": "code",
   "execution_count": 1,
   "metadata": {},
   "outputs": [
    {
     "name": "stdout",
     "output_type": "stream",
     "text": [
      "输入x1和y1：1.5,-3.4\n",
      "输入x2和y2：4,5\n",
      "两点之间的距离为8.764131445842194\n"
     ]
    }
   ],
   "source": [
    "def distance():\n",
    "    x1,y1 = eval (input(\"输入x1和y1：\"))\n",
    "    x2,y2 = eval (input(\"输入x2和y2：\"))\n",
    "    dis = ((x1 - x2) ** 2 + (y1 - y2) ** 2) ** 0.5\n",
    "    print(\"两点之间的距离为\" + str(dis))\n",
    "distance()"
   ]
  },
  {
   "cell_type": "markdown",
   "metadata": {},
   "source": [
    "- 8\n",
    "![](../Photo/81.png)"
   ]
  },
  {
   "cell_type": "code",
   "execution_count": 10,
   "metadata": {},
   "outputs": [
    {
     "name": "stdout",
     "output_type": "stream",
     "text": [
      "2 3 \n",
      "3 7 \n",
      "5 31 \n"
     ]
    }
   ],
   "source": [
    "def sushu():\n",
    "    for i in range(2,32):\n",
    "        for j in range(2, i):\n",
    "            if i % j == 0:\n",
    "                break\n",
    "        else:\n",
    "            for p in range(1, i):\n",
    "                if i == 2 ** p - 1:\n",
    "                    print(p,i, end = \" \\n\")\n",
    "sushu()"
   ]
  },
  {
   "cell_type": "markdown",
   "metadata": {},
   "source": [
    "- 9\n",
    "![](../Photo/82.png)\n",
    "![](../Photo/83.png)"
   ]
  },
  {
   "cell_type": "markdown",
   "metadata": {},
   "source": [
    "- 10\n",
    "![](../Photo/84.png)"
   ]
  },
  {
   "cell_type": "code",
   "execution_count": 2,
   "metadata": {},
   "outputs": [
    {
     "name": "stdout",
     "output_type": "stream",
     "text": [
      "You rolled 2 + 3 = 5\n",
      "point is 5\n",
      "You rolled 3 + 4 = 7\n",
      "You lose\n"
     ]
    }
   ],
   "source": [
    "import random\n",
    "def youxi():\n",
    "    i1 = random.randint(1, 6)\n",
    "    i2 = random.randint(1, 6)\n",
    "    sum_ = i1 + i2\n",
    "    print(\"You rolled\", i1, \"+\", i2, \"=\", sum_)\n",
    "    if sum_ == 7 or sum_ == 11:\n",
    "        print(\"You win\")\n",
    "    elif sum_ == 2 or sum_ == 3 or sum_ == 12:\n",
    "        print(\"You lose\")\n",
    "    else:\n",
    "        point = sum_\n",
    "        print(\"point is\", point)\n",
    "        i1_ = random.randint(1, 6)\n",
    "        i2_ = random.randint(1, 6)\n",
    "        sum_2 = i1_ + i2_\n",
    "        print(\"You rolled\", i1_, \"+\", i2_, \"=\", sum_2)\n",
    "        while 1:\n",
    "            if sum_2 == 7:\n",
    "                print(\"You lose\")\n",
    "                break\n",
    "            elif sum_2 == point:\n",
    "                print(\"You win\")\n",
    "youxi()"
   ]
  },
  {
   "cell_type": "markdown",
   "metadata": {},
   "source": [
    "- 11 \n",
    "### 去网上寻找如何用Python代码发送邮件"
   ]
  }
 ],
 "metadata": {
  "kernelspec": {
   "display_name": "Python 3",
   "language": "python",
   "name": "python3"
  },
  "language_info": {
   "codemirror_mode": {
    "name": "ipython",
    "version": 3
   },
   "file_extension": ".py",
   "mimetype": "text/x-python",
   "name": "python",
   "nbconvert_exporter": "python",
   "pygments_lexer": "ipython3",
   "version": "3.6.4"
  }
 },
 "nbformat": 4,
 "nbformat_minor": 2
}
